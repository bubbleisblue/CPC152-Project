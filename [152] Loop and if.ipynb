{
 "cells": [
  {
   "cell_type": "markdown",
   "id": "b4c25055",
   "metadata": {},
   "source": [
    "# For loop"
   ]
  },
  {
   "cell_type": "code",
   "execution_count": 2,
   "id": "1449101d",
   "metadata": {},
   "outputs": [
    {
     "ename": "SyntaxError",
     "evalue": "invalid syntax (2330325402.py, line 1)",
     "output_type": "error",
     "traceback": [
      "\u001b[1;36m  Cell \u001b[1;32mIn[2], line 1\u001b[1;36m\u001b[0m\n\u001b[1;33m    jupyter lab --collaborative\u001b[0m\n\u001b[1;37m            ^\u001b[0m\n\u001b[1;31mSyntaxError\u001b[0m\u001b[1;31m:\u001b[0m invalid syntax\n"
     ]
    }
   ],
   "source": [
    "jupyter lab --collaborative"
   ]
  },
  {
   "cell_type": "code",
   "execution_count": 1,
   "id": "5843fa4b",
   "metadata": {},
   "outputs": [
    {
     "name": "stdout",
     "output_type": "stream",
     "text": [
      "0\n",
      "1\n",
      "2\n",
      "3\n",
      "4\n"
     ]
    }
   ],
   "source": [
    "for i in range(5):\n",
    "    print(i)"
   ]
  },
  {
   "cell_type": "code",
   "execution_count": 3,
   "id": "3c1058f6",
   "metadata": {},
   "outputs": [
    {
     "name": "stdout",
     "output_type": "stream",
     "text": [
      "Hello\n",
      "Hello\n",
      "Hello\n",
      "Hello\n",
      "Hello\n",
      "Hello\n",
      "Hello\n",
      "Hello\n",
      "Hello\n",
      "Hello\n"
     ]
    }
   ],
   "source": [
    "for i in range(10):\n",
    "    print(\"Hello\")"
   ]
  },
  {
   "cell_type": "code",
   "execution_count": 4,
   "id": "0817dad1",
   "metadata": {},
   "outputs": [
    {
     "name": "stdout",
     "output_type": "stream",
     "text": [
      "Enter a number: 2\n",
      "The square of your number is 4\n",
      "Enter a number: 3\n",
      "The square of your number is 9\n",
      "Enter a number: 4\n",
      "The square of your number is 16\n",
      "The loop is now done.\n"
     ]
    }
   ],
   "source": [
    "for i in range (3):\n",
    "    num = int (input('Enter a number: ')) #to ensure user input a int\n",
    "    print('The square of your number is', num*num)\n",
    "print('The loop is now done.')#out of the loop"
   ]
  },
  {
   "cell_type": "code",
   "execution_count": 8,
   "id": "3afd8018",
   "metadata": {},
   "outputs": [
    {
     "name": "stdout",
     "output_type": "stream",
     "text": [
      "A\n",
      "B\n",
      "C\n",
      "D\n",
      "E\n",
      "C\n",
      "D\n",
      "E\n",
      "C\n",
      "D\n",
      "E\n",
      "C\n",
      "D\n",
      "E\n",
      "C\n",
      "D\n",
      "E\n"
     ]
    }
   ],
   "source": [
    "print('A')\n",
    "print('B')\n",
    "for i in range(5):\n",
    "    print('C')\n",
    "    for j in range(1):\n",
    "        print('D')\n",
    "        print('E')"
   ]
  },
  {
   "cell_type": "markdown",
   "id": "98a438c3",
   "metadata": {},
   "source": [
    "# if statement"
   ]
  },
  {
   "cell_type": "code",
   "execution_count": 11,
   "id": "b9ee0a5a",
   "metadata": {},
   "outputs": [
    {
     "name": "stdout",
     "output_type": "stream",
     "text": [
      "Number is positive\n",
      "The if statement is easy\n"
     ]
    }
   ],
   "source": [
    "number = 10\n",
    "\n",
    "#check if number is greater than 0\n",
    "if number >0:\n",
    "    print('Number is positive')\n",
    "\n",
    "#else\n",
    "print('The if statement is easy') "
   ]
  },
  {
   "cell_type": "markdown",
   "id": "5c7576db",
   "metadata": {},
   "source": [
    "# if...else statement"
   ]
  },
  {
   "cell_type": "code",
   "execution_count": 13,
   "id": "112bb719",
   "metadata": {},
   "outputs": [
    {
     "name": "stdout",
     "output_type": "stream",
     "text": [
      "Negative number\n",
      "Done\n"
     ]
    }
   ],
   "source": [
    "number = -6\n",
    "\n",
    "if number >0:\n",
    "    print('Number is positive')\n",
    "\n",
    "else:\n",
    "    print('Negative number')\n",
    "    \n",
    "print(\"Done\")"
   ]
  },
  {
   "cell_type": "markdown",
   "id": "ba326611",
   "metadata": {},
   "source": [
    "# if...elif... else statement "
   ]
  },
  {
   "cell_type": "code",
   "execution_count": 14,
   "id": "3f9bc7a9",
   "metadata": {},
   "outputs": [
    {
     "name": "stdout",
     "output_type": "stream",
     "text": [
      "Zero\n",
      "This statement is always executed\n"
     ]
    }
   ],
   "source": [
    "number =0\n",
    "\n",
    "if number >0:\n",
    "    print(\"Positive number\")\n",
    "\n",
    "elif number == 0:\n",
    "    print(\"Zero\")\n",
    "\n",
    "else:\n",
    "    print(\"Negative number\")\n",
    "    \n",
    "print(\"This statement is always executed\")"
   ]
  },
  {
   "cell_type": "code",
   "execution_count": 16,
   "id": "95925041",
   "metadata": {},
   "outputs": [
    {
     "name": "stdout",
     "output_type": "stream",
     "text": [
      "Enter a number: 3\n",
      "Enter another number: 5\n",
      "Second number is the largest\n"
     ]
    }
   ],
   "source": [
    "i = int(input(\"Enter a number: \"))\n",
    "j = int(input(\"Enter another number: \"))\n",
    "\n",
    "if i > j:\n",
    "    print(\"First number is the largest\")\n",
    "\n",
    "else:\n",
    "    print(\"Second number is the largest\")"
   ]
  },
  {
   "cell_type": "code",
   "execution_count": 1,
   "id": "cf4c88f4",
   "metadata": {},
   "outputs": [
    {
     "name": "stdout",
     "output_type": "stream",
     "text": [
      "1\n",
      "2\n",
      "3\n",
      "4\n",
      "5\n"
     ]
    }
   ],
   "source": [
    "i = 1\n",
    "while(i<6):\n",
    "    print(i)\n",
    "    i += 1;"
   ]
  },
  {
   "cell_type": "code",
   "execution_count": 2,
   "id": "cfb1f204",
   "metadata": {},
   "outputs": [
    {
     "name": "stdout",
     "output_type": "stream",
     "text": [
      "1\n",
      "2\n",
      "3\n"
     ]
    }
   ],
   "source": [
    "i =1\n",
    "while i<6:\n",
    "    print(i)\n",
    "    if i == 3:\n",
    "        break\n",
    "    \n",
    "    i +=1"
   ]
  },
  {
   "cell_type": "code",
   "execution_count": 3,
   "id": "98801de3",
   "metadata": {},
   "outputs": [
    {
     "name": "stdout",
     "output_type": "stream",
     "text": [
      "1\n",
      "2\n",
      "3\n",
      "4\n",
      "5\n",
      "6\n",
      "7\n",
      "8\n",
      "9\n",
      "10\n",
      "11\n",
      "12\n",
      "13\n",
      "14\n",
      "15\n"
     ]
    }
   ],
   "source": [
    "a = 1\n",
    "while a <16:\n",
    "    print(a)\n",
    "    a+=1"
   ]
  },
  {
   "cell_type": "code",
   "execution_count": 21,
   "id": "b0503ed8",
   "metadata": {},
   "outputs": [
    {
     "data": {
      "text/plain": [
       "2"
      ]
     },
     "execution_count": 21,
     "metadata": {},
     "output_type": "execute_result"
    }
   ],
   "source": [
    "fruit = [\"orange\", \"apple\", \"pear\", \"banana\", \"kiwi\", \"apple\", \"banana\"]\n",
    "fruit.count(\"apple\")\n"
   ]
  },
  {
   "cell_type": "code",
   "execution_count": 22,
   "id": "8792554e",
   "metadata": {},
   "outputs": [
    {
     "data": {
      "text/plain": [
       "2"
      ]
     },
     "execution_count": 22,
     "metadata": {},
     "output_type": "execute_result"
    }
   ],
   "source": [
    "fruit.count(\"banana\")"
   ]
  },
  {
   "cell_type": "code",
   "execution_count": 23,
   "id": "a0db302d",
   "metadata": {},
   "outputs": [
    {
     "data": {
      "text/plain": [
       "0"
      ]
     },
     "execution_count": 23,
     "metadata": {},
     "output_type": "execute_result"
    }
   ],
   "source": [
    "fruit.count(\"egg\")"
   ]
  },
  {
   "cell_type": "code",
   "execution_count": 24,
   "id": "f97e43dd",
   "metadata": {},
   "outputs": [
    {
     "data": {
      "text/plain": [
       "3"
      ]
     },
     "execution_count": 24,
     "metadata": {},
     "output_type": "execute_result"
    }
   ],
   "source": [
    "fruit.index(\"banana\") #the index of banana in the list"
   ]
  },
  {
   "cell_type": "code",
   "execution_count": 25,
   "id": "46de0d75",
   "metadata": {},
   "outputs": [
    {
     "data": {
      "text/plain": [
       "6"
      ]
     },
     "execution_count": 25,
     "metadata": {},
     "output_type": "execute_result"
    }
   ],
   "source": [
    "fruit.index(\"banana\", 4 ) #start from"
   ]
  },
  {
   "cell_type": "code",
   "execution_count": 26,
   "id": "412bc388",
   "metadata": {},
   "outputs": [
    {
     "data": {
      "text/plain": [
       "['banana', 'apple', 'kiwi', 'banana', 'pear', 'apple', 'orange']"
      ]
     },
     "execution_count": 26,
     "metadata": {},
     "output_type": "execute_result"
    }
   ],
   "source": [
    "fruit.reverse()#reverse the item in the list\n",
    "fruit"
   ]
  },
  {
   "cell_type": "code",
   "execution_count": 27,
   "id": "90362991",
   "metadata": {},
   "outputs": [
    {
     "data": {
      "text/plain": [
       "['banana', 'apple', 'kiwi', 'banana', 'pear', 'apple', 'orange', 'grape']"
      ]
     },
     "execution_count": 27,
     "metadata": {},
     "output_type": "execute_result"
    }
   ],
   "source": [
    "fruit.append('grape')#add in \n",
    "fruit"
   ]
  },
  {
   "cell_type": "code",
   "execution_count": 28,
   "id": "e6b561fb",
   "metadata": {},
   "outputs": [
    {
     "data": {
      "text/plain": [
       "['apple', 'apple', 'banana', 'banana', 'grape', 'kiwi', 'orange', 'pear']"
      ]
     },
     "execution_count": 28,
     "metadata": {},
     "output_type": "execute_result"
    }
   ],
   "source": [
    "fruit.sort()\n",
    "fruit"
   ]
  },
  {
   "cell_type": "code",
   "execution_count": 29,
   "id": "2ce2c2e4",
   "metadata": {},
   "outputs": [
    {
     "data": {
      "text/plain": [
       "['apple', 'apple', 'banana', 'grape', 'kiwi', 'orange', 'pear']"
      ]
     },
     "execution_count": 29,
     "metadata": {},
     "output_type": "execute_result"
    }
   ],
   "source": [
    "fruit.pop(2) #remove the item with index 2 in the list\n",
    "fruit"
   ]
  },
  {
   "cell_type": "markdown",
   "id": "b0915900",
   "metadata": {},
   "source": [
    "# List"
   ]
  },
  {
   "cell_type": "code",
   "execution_count": 30,
   "id": "dbfd53e8",
   "metadata": {},
   "outputs": [
    {
     "data": {
      "text/plain": [
       "['This', 'is', 'a', 'list']"
      ]
     },
     "execution_count": 30,
     "metadata": {},
     "output_type": "execute_result"
    }
   ],
   "source": [
    "L = [] #create empty list\n",
    "L = [\"This\",\"is\", \"a\", \"list\"]\n",
    "L"
   ]
  },
  {
   "cell_type": "code",
   "execution_count": 31,
   "id": "9e8cb2c6",
   "metadata": {},
   "outputs": [
    {
     "data": {
      "text/plain": [
       "4"
      ]
     },
     "execution_count": 31,
     "metadata": {},
     "output_type": "execute_result"
    }
   ],
   "source": [
    "#to count the length of list\n",
    "n = len(L)\n",
    "n"
   ]
  },
  {
   "cell_type": "code",
   "execution_count": 32,
   "id": "56a1aa28",
   "metadata": {},
   "outputs": [
    {
     "data": {
      "text/plain": [
       "['banana', 'apple', 'kiwi', 'banana', 'pear', 'apple', 'orange']"
      ]
     },
     "execution_count": 32,
     "metadata": {},
     "output_type": "execute_result"
    }
   ],
   "source": [
    "# seq = [start:stop]\n",
    "L =['banana', 'apple', 'kiwi', 'banana', 'pear', 'apple', 'orange']\n",
    "L"
   ]
  },
  {
   "cell_type": "code",
   "execution_count": 33,
   "id": "8987bf3b",
   "metadata": {},
   "outputs": [
    {
     "data": {
      "text/plain": [
       "['kiwi', 'banana', 'pear', 'apple']"
      ]
     },
     "execution_count": 33,
     "metadata": {},
     "output_type": "execute_result"
    }
   ],
   "source": [
    "K= L[2:6]\n",
    "K"
   ]
  },
  {
   "cell_type": "code",
   "execution_count": 34,
   "id": "d0fe2123",
   "metadata": {},
   "outputs": [
    {
     "data": {
      "text/plain": [
       "'orange'"
      ]
     },
     "execution_count": 34,
     "metadata": {},
     "output_type": "execute_result"
    }
   ],
   "source": [
    "#L[-1] can be used to access the last item in a list\n",
    "L[-1]"
   ]
  },
  {
   "cell_type": "code",
   "execution_count": 35,
   "id": "81c5589a",
   "metadata": {},
   "outputs": [
    {
     "data": {
      "text/plain": [
       "['orange', 'apple', 'pear', 'banana', 'kiwi', 'apple', 'banana']"
      ]
     },
     "execution_count": 35,
     "metadata": {},
     "output_type": "execute_result"
    }
   ],
   "source": [
    "L.reverse()\n",
    "L"
   ]
  },
  {
   "cell_type": "code",
   "execution_count": 36,
   "id": "eb6080e7",
   "metadata": {},
   "outputs": [
    {
     "data": {
      "text/plain": [
       "['orange', 'apple', 'pear', 'banana', 'kiwi', 'apple', 'banana']"
      ]
     },
     "execution_count": 36,
     "metadata": {},
     "output_type": "execute_result"
    }
   ],
   "source": [
    "L[:] #catch all the item in the list"
   ]
  },
  {
   "cell_type": "code",
   "execution_count": 37,
   "id": "997dc1d3",
   "metadata": {},
   "outputs": [
    {
     "data": {
      "text/plain": [
       "['orange', 'apple', 'pear', 'banana', 'kiwi']"
      ]
     },
     "execution_count": 37,
     "metadata": {},
     "output_type": "execute_result"
    }
   ],
   "source": [
    "L[:5] #start at the begining but stop at index 5"
   ]
  },
  {
   "cell_type": "code",
   "execution_count": 38,
   "id": "2b5c5cc7",
   "metadata": {},
   "outputs": [
    {
     "data": {
      "text/plain": [
       "['pear', 'banana', 'kiwi', 'apple', 'banana']"
      ]
     },
     "execution_count": 38,
     "metadata": {},
     "output_type": "execute_result"
    }
   ],
   "source": [
    "L[2:] #start from idex 2 and go til the end\n"
   ]
  },
  {
   "cell_type": "code",
   "execution_count": 39,
   "id": "b1d97556",
   "metadata": {},
   "outputs": [
    {
     "data": {
      "text/plain": [
       "['apple', 'banana', 'apple']"
      ]
     },
     "execution_count": 39,
     "metadata": {},
     "output_type": "execute_result"
    }
   ],
   "source": [
    "# seq = L[start: stop: step]\n",
    "L[1:6:2] #jump twice take one "
   ]
  },
  {
   "cell_type": "code",
   "execution_count": 40,
   "id": "7e964376",
   "metadata": {},
   "outputs": [
    {
     "data": {
      "text/plain": [
       "[11, 14, 17]"
      ]
     },
     "execution_count": 40,
     "metadata": {},
     "output_type": "execute_result"
    }
   ],
   "source": [
    "L = [11,12,13,14,15,16,17,18,19,20]\n",
    "L[0:7:3]"
   ]
  },
  {
   "cell_type": "code",
   "execution_count": null,
   "id": "7ac1ec46",
   "metadata": {},
   "outputs": [],
   "source": []
  }
 ],
 "metadata": {
  "kernelspec": {
   "display_name": "Python 3 (ipykernel)",
   "language": "python",
   "name": "python3"
  },
  "language_info": {
   "codemirror_mode": {
    "name": "ipython",
    "version": 3
   },
   "file_extension": ".py",
   "mimetype": "text/x-python",
   "name": "python",
   "nbconvert_exporter": "python",
   "pygments_lexer": "ipython3",
   "version": "3.10.9"
  }
 },
 "nbformat": 4,
 "nbformat_minor": 5
}
